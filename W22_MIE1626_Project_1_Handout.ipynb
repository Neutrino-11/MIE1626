{
 "cells": [
  {
   "cell_type": "markdown",
   "metadata": {
    "id": "9Ucvm7IH6da3"
   },
   "source": [
    "# **Project 1**, MIE1626 Winter 2022\n",
    "**Data Science Methods and Quantitative Analysis - Home Credit Default Risk [90 Marks]**\n",
    "\n",
    "**Deadline: February 11 at 21:00**\n",
    "\n",
    "**Academic Integrity**\n",
    "\n",
    "This project is individual: It is to be completed on your own. Do not share your code with others, or post any parts of your work online. You can only submit code that you have written yourself. If you use any online resource for developing parts of your code, acknowledge the source in a comment in your code. Students suspected of plagiarism on a project will be referred to the university for formal discipline according to the Code of Behaviour on Academic Matters."
   ]
  },
  {
   "cell_type": "markdown",
   "metadata": {
    "id": "hGTYOwVXnmGv"
   },
   "source": [
    "Please fill out the following:\n",
    "\n",
    "\n",
    "*   Name: Kasra Hamzehi\n",
    "*   Student Number: 999680457\n",
    "*   UTorID: hamzehia"
   ]
  },
  {
   "cell_type": "markdown",
   "metadata": {
    "id": "xVh8MGvte8bX"
   },
   "source": [
    "## **Part 1: Getting started [20 Marks]**\n",
    "\n",
    "* Load the data\n",
    "\n",
    "Load the six csv files as pandas dataframes using a string 'path' for the location of files on your system (to be then updated by the marker for evaluation)"
   ]
  },
  {
   "cell_type": "code",
   "execution_count": 116,
   "metadata": {
    "id": "r9LfYqXUHbql"
   },
   "outputs": [],
   "source": [
    "# Import necessary packages\n",
    "import pandas as pd\n",
    "import numpy as np\n",
    "import math\n",
    "from varclushi import VarClusHi\n",
    "\n",
    "from sklearn import feature_selection\n",
    "from sklearn import metrics\n",
    "from sklearn.ensemble import RandomForestClassifier\n",
    "from sklearn.cluster import KMeans\n",
    "\n",
    "from sklearn.model_selection import cross_val_score, RepeatedStratifiedKFold, train_test_split, RandomizedSearchCV, KFold, GridSearchCV\n",
    "from sklearn.preprocessing import OneHotEncoder\n",
    "from sklearn.metrics import accuracy_score, roc_auc_score, plot_confusion_matrix, plot_roc_curve, f1_score, precision_score, recall_score, auc, roc_curve, confusion_matrix, classification_report\n",
    "\n",
    "import os\n",
    "import gc\n",
    "\n",
    "import matplotlib.pyplot as plt\n",
    "import seaborn as sns\n",
    "import warnings\n",
    "warnings.filterwarnings('ignore')\n",
    "\n",
    "%matplotlib inline\n",
    "\n",
    "from xgboost import XGBClassifier, plot_importance\n",
    "\n",
    "import sys"
   ]
  },
  {
   "cell_type": "code",
   "execution_count": 117,
   "metadata": {
    "id": "6xR6EPYQZVoa"
   },
   "outputs": [],
   "source": [
    "### YOUR CODE HERE ###\n",
    "#load data as dataframes\n",
    "application_train = pd.read_csv('application_train.csv')\n",
    "bureau = pd.read_csv('bureau.csv')\n",
    "bureau_balance = pd.read_csv('bureau_balance.csv')\n",
    "POS_CASH_balance = pd.read_csv('POS_CASH_balance.csv')\n",
    "credit_card_balance = pd.read_csv('credit_card_balance.csv')\n",
    "installments_payments = pd.read_csv('installments_payments.csv')"
   ]
  },
  {
   "cell_type": "markdown",
   "metadata": {
    "id": "1w6cRXOee8b3"
   },
   "source": [
    "* 1.1 Data transformation and cleaning [15 Marks]\n",
    "\n",
    "To conduct data cleaning, the first step is create and select relevant features. This includes the\n",
    "following sub-steps:\n",
    "1. Remove/disregard features that have a constant value.\n",
    "2. Remove/disregard features that are irrelevant to credit risk or can’t be explained. This includes\n",
    "time variables that are only related to the application and other variables that are not related to\n",
    "the response.\n",
    "3. Handle missing values.\n",
    "4. Calculate the proportion of each outcome in dichotomous value to transform categorical variables\n",
    "to continuous variables (explained below).\n",
    "5. Create new variables.\n",
    "\n",
    "See details in the project handout. "
   ]
  },
  {
   "cell_type": "markdown",
   "metadata": {},
   "source": [
    "Cleaning bureau_balance.csv"
   ]
  },
  {
   "cell_type": "code",
   "execution_count": 118,
   "metadata": {},
   "outputs": [
    {
     "name": "stdout",
     "output_type": "stream",
     "text": [
      "Proportion of 0 in the STATUS of balance_bureau is: 27.470797080944358 \n"
     ]
    }
   ],
   "source": [
    "# remove MONTHS_BALANCE \n",
    "bureau_balance_new = bureau_balance\n",
    "del bureau_balance_new['MONTHS_BALANCE']\n",
    "\n",
    "# calculate proportion of 0 in STATUS\n",
    "proportion_bureau_balance = bureau_balance['STATUS'].value_counts(normalize=True)*100\n",
    "proportion_is_0 = proportion_bureau_balance[1]\n",
    "print(\"Proportion of 0 in the STATUS of balance_bureau is: {} \".format(proportion_is_0))\n",
    "\n",
    "# merge with bureau using the key 'SK_ID_BUREAU'\n",
    "bureau_combined = bureau.merge(bureau_balance_new, on='SK_ID_BUREAU', how='left')\n",
    "\n"
   ]
  },
  {
   "cell_type": "markdown",
   "metadata": {},
   "source": [
    "Cleaning bureau.csv"
   ]
  },
  {
   "cell_type": "code",
   "execution_count": 119,
   "metadata": {},
   "outputs": [
    {
     "name": "stdout",
     "output_type": "stream",
     "text": [
      "proportion of ACTIVE and CLOSED in CREDIT_ACTIVE: \n",
      "Closed      76.035525\n",
      "Active      23.463675\n",
      "Sold         0.500330\n",
      "Bad debt     0.000470\n",
      "Name: CREDIT_ACTIVE, dtype: float64\n",
      "Consumer credit                                 75.718004\n",
      "Credit card                                     20.863540\n",
      "Car loan                                         1.839389\n",
      "Mortgage                                         1.039009\n",
      "Microloan                                        0.213066\n",
      "Loan for business development                    0.173741\n",
      "Another type of loan                             0.071181\n",
      "Unknown type of loan                             0.053587\n",
      "Loan for working capital replenishment           0.020249\n",
      "Cash loan (non-earmarked)                        0.005752\n",
      "Loan for the purchase of equipment               0.001202\n",
      "Real estate loan                                 0.001019\n",
      "Loan for purchase of shares (margin lending)     0.000151\n",
      "Mobile operator loan                             0.000103\n",
      "Interbank credit                                 0.000004\n",
      "Name: CREDIT_TYPE, dtype: float64\n"
     ]
    }
   ],
   "source": [
    "# calculate the proportion of Closed and Active of CREDIT_ACTIVE\n",
    "proportion_active_closed = bureau_combined['CREDIT_ACTIVE'].value_counts(normalize=True)*100\n",
    "print(\"proportion of ACTIVE and CLOSED in CREDIT_ACTIVE: \")\n",
    "print(proportion_active_closed)\n",
    "\n",
    "# remove CREDIT_CURRENCY as it is constant\n",
    "\n",
    "del bureau_combined['CREDIT_CURRENCY']\n",
    "\n",
    "# remove irrelevant variables \n",
    "bureau_combined.drop(['DAYS_CREDIT', 'CREDIT_DAY_OVERDUE' , 'DAYS_CREDIT_ENDDATE', 'DAYS_ENDDATE_FACT', 'DAYS_CREDIT_UPDATE'], axis=1, inplace=True)\n",
    "\n",
    "# calculate the proportion of consumer credit and credit card of CREDIT_TYPE\n",
    "proportion_credit = bureau_combined['CREDIT_TYPE'].value_counts(normalize=True)*100\n",
    "#print(\"proportion of consumer vs credit card: \")\n",
    "print(proportion_credit)\n",
    "\n",
    "#create new column, if loan is credit card then 1, 0 if else\n",
    "bureau_combined['CREDIT_TYPE_CREDIT_CARD'] = 0\n",
    "bureau_combined.loc[bureau_combined['CREDIT_TYPE'] == 'Credit card', 'CREDIT_TYPE_CREDIT_CARD'] =1\n",
    "\n",
    "# calculate the average of the numerical variables for SK_ID_CURR and remove nuisance features that are qualitative\n",
    "bureau_new = bureau_combined.groupby(['SK_ID_CURR'], as_index=False).mean()\n",
    "bureau_new.loc[bureau_new['CREDIT_TYPE_CREDIT_CARD'] > 0, 'CREDIT_TYPE_CREDIT_CARD'] =1\n",
    "\n",
    "\n",
    "\n",
    "#merge with application_train\n",
    "application_train_new = application_train.merge(bureau_new, on='SK_ID_CURR', how='left')\n"
   ]
  },
  {
   "cell_type": "markdown",
   "metadata": {},
   "source": [
    "Cleaning installment_payment.csv"
   ]
  },
  {
   "cell_type": "code",
   "execution_count": 120,
   "metadata": {},
   "outputs": [],
   "source": [
    "#combine AMT_INSTALMENT and AMT_PAYMENT into AMT_PAYMENT_GREATER_EQUAL_INSTALMENT which will be 1 if AMT_PAYMENT >= AMT_INSTALMENT\n",
    "\n",
    "#determine the # of NaN in both columns\n",
    "instalment_nan = installments_payments['AMT_INSTALMENT'].isna().sum()\n",
    "payment_nan = installments_payments['AMT_PAYMENT'].isna().sum()\n",
    "\n",
    "#remove NaN rows in AMT_payment since the information is unknown\n",
    "installments_payments.dropna(subset = ['AMT_PAYMENT'], inplace=True)\n",
    "\n",
    "#set values for \"AMT_PAYMENT_GREATER_EQUAL_INSTALMENT\"\n",
    "installments_payments.loc[installments_payments['AMT_PAYMENT'] >= installments_payments['AMT_INSTALMENT'], 'AMT_PAYMENT_GREATER_EQUAL_INSTALMENT'] =1\n",
    "installments_payments.loc[installments_payments['AMT_PAYMENT'] < installments_payments['AMT_INSTALMENT'], 'AMT_PAYMENT_GREATER_EQUAL_INSTALMENT'] =0\n",
    "\n",
    "#for each SK_ID_CURR, calculate and return max \n",
    "installments_payments = installments_payments.sort_values('AMT_PAYMENT_GREATER_EQUAL_INSTALMENT').drop_duplicates('SK_ID_CURR', keep='last')\n",
    "#installments_payments = installments_payments.loc[installments_payments.groupby('SK_ID_CURR')['AMT_PAYMENT_GREATER_EQUAL_INSTALMENT'].idxmax()]"
   ]
  },
  {
   "cell_type": "code",
   "execution_count": 121,
   "metadata": {},
   "outputs": [
    {
     "data": {
      "text/plain": [
       "1.0    339490\n",
       "0.0        88\n",
       "Name: AMT_PAYMENT_GREATER_EQUAL_INSTALMENT, dtype: int64"
      ]
     },
     "execution_count": 121,
     "metadata": {},
     "output_type": "execute_result"
    }
   ],
   "source": [
    "installments_payments['AMT_PAYMENT_GREATER_EQUAL_INSTALMENT'].value_counts()"
   ]
  },
  {
   "cell_type": "markdown",
   "metadata": {},
   "source": [
    "Cleaning credit_card_balance.csv"
   ]
  },
  {
   "cell_type": "code",
   "execution_count": 122,
   "metadata": {},
   "outputs": [],
   "source": [
    "credit_card_balance.update(credit_card_balance[['AMT_DRAWINGS_ATM_CURRENT', 'AMT_DRAWINGS_CURRENT', 'AMT_DRAWINGS_OTHER_CURRENT', 'AMT_DRAWINGS_POS_CURRENT', 'AMT_RECIVABLE','AMT_TOTAL_RECEIVABLE']].fillna(0))\n",
    "credit_card_balance = credit_card_balance.groupby('SK_ID_CURR', as_index=False).mean()"
   ]
  },
  {
   "cell_type": "markdown",
   "metadata": {},
   "source": [
    "Cleaning POS_CASH_balance.csv"
   ]
  },
  {
   "cell_type": "code",
   "execution_count": 123,
   "metadata": {},
   "outputs": [],
   "source": [
    "# if SK_DPD is originally, keep as 0, else change to 1\n",
    "POS_CASH_balance['SK_DPD'].fillna(0)\n",
    "POS_CASH_balance.loc[POS_CASH_balance['SK_DPD'] != 0, 'SK_DPD'] =1\n",
    "\n",
    "#take max of SK_DPD for each SK_ID_CURR\n",
    "POS_CASH_balance.loc[POS_CASH_balance.groupby('SK_ID_CURR')['SK_DPD'].idxmax()]\n",
    "\n",
    "\n",
    "#Replace NA with 0 in 'CNT_INSTALMENT_FUTURE'\n",
    "POS_CASH_balance['CNT_INSTALMENT_FUTURE'].fillna(0)\n",
    "df=POS_CASH_balance.groupby('SK_ID_CURR', as_index=False).mean()\n",
    "df.loc[df['SK_DPD'] != 0, 'SK_DPD'] =1\n",
    "POS_CASH_balance = df\n"
   ]
  },
  {
   "cell_type": "markdown",
   "metadata": {},
   "source": [
    "Merge all cleaned dataframes into application_train"
   ]
  },
  {
   "cell_type": "code",
   "execution_count": 124,
   "metadata": {},
   "outputs": [],
   "source": [
    "#installment_payment\n",
    "application_train_new = application_train_new.merge(installments_payments, on='SK_ID_CURR', how='left')\n",
    "\n",
    "#credit_card_balance\n",
    "application_train_new = application_train_new.merge(credit_card_balance, on='SK_ID_CURR', how='left')\n",
    "\n",
    "#POS_CASH_balance\n",
    "application_train_new = application_train_new.merge(POS_CASH_balance, on='SK_ID_CURR', how='left')\n"
   ]
  },
  {
   "cell_type": "markdown",
   "metadata": {},
   "source": [
    " Report the shape of the combined dataset."
   ]
  },
  {
   "cell_type": "code",
   "execution_count": 125,
   "metadata": {},
   "outputs": [
    {
     "name": "stdout",
     "output_type": "stream",
     "text": [
      "The shape of the combined & cleaned dataset: \n"
     ]
    },
    {
     "data": {
      "text/plain": [
       "(307511, 166)"
      ]
     },
     "execution_count": 125,
     "metadata": {},
     "output_type": "execute_result"
    }
   ],
   "source": [
    "print(\"The shape of the combined & cleaned dataset: \")\n",
    "application_train_new.shape"
   ]
  },
  {
   "cell_type": "markdown",
   "metadata": {},
   "source": [
    "Provide a data dictionary (i.e. an organized list of variables you have added to the main dataset\n",
    "and their descriptions) before performing any statistical modelling."
   ]
  },
  {
   "cell_type": "markdown",
   "metadata": {},
   "source": [
    "Variable added: \n",
    "\"AMT_PAYMENT_GREATER_EQUAL_INSTALMENT\" --> binary value indicating whether the client has paid the installment on time (1) or not (0)\n",
    "\"CREDIT_TYPE_CREDIT_CARD\" --> binary value indicating whether the method of payment was with credit card (1) or not (0)\n",
    "\n"
   ]
  },
  {
   "cell_type": "markdown",
   "metadata": {
    "id": "v4EPw3I-e8b7"
   },
   "source": [
    "* 1.2 Visualizing the response variable [5 Marks]\n",
    "\n",
    "Determine the response variable in your notebook and explain in plain English what it represents.\n",
    "Provide a Seaborn plot for the response variable and one arbitrary pair of the features that you\n",
    "have created in the previous parts. Use appropriate figure size, title/caption, legend, and axis titles."
   ]
  },
  {
   "cell_type": "markdown",
   "metadata": {},
   "source": [
    "The response variable is the \"TARGET\" which is a binary feature where 0 indicates the loan was repaid or 1 that the loan was not repaid. \n",
    "\n",
    "We are interested to build a model that allows us to predict whether a client will be able to repay their loan. "
   ]
  },
  {
   "cell_type": "code",
   "execution_count": 126,
   "metadata": {
    "id": "4ZAbDaphe8bt"
   },
   "outputs": [
    {
     "data": {
      "image/png": "[encoded data removed]",
      "text/plain": [
       "<Figure size 432x288 with 1 Axes>"
      ]
     },
     "metadata": {
      "needs_background": "light"
     },
     "output_type": "display_data"
    }
   ],
   "source": [
    "#plot X as TARGET: 1=difficuly, 0=no difficulty\n",
    "#plot Y as number of times AMT_PAYMENT_GREATER_EQUAL_INSTALMENT: is 1 (yes) or 0 (no). \n",
    "\n",
    "#total_1 = application_train_new['AMT_PAYMENT_GREATER_EQUAL_INSTALMENT'].value_counts()[1]\n",
    "#total_0 = application_train_new['AMT_PAYMENT_GREATER_EQUAL_INSTALMENT'].value_counts()[0]\n",
    "\n",
    "df = application_train_new\n",
    "total_0 = df.loc[df['TARGET'] == 0, 'AMT_PAYMENT_GREATER_EQUAL_INSTALMENT'].sum()\n",
    "total_1 = df.loc[df['TARGET'] == 1, 'AMT_PAYMENT_GREATER_EQUAL_INSTALMENT'].sum() \n",
    "\n",
    "x = [0, 1] #target categories\n",
    "y = [total_0, total_1] \n",
    "\n",
    "p = sns.barplot(x,y )\n",
    "p.set(xlabel = \"Target\", ylabel = \"Payment Greater than Installment\")\n",
    "p.set_title('Payments Greater than Installment vs Ability to Repay Loan')\n",
    "plt.show()\n"
   ]
  },
  {
   "cell_type": "markdown",
   "metadata": {
    "id": "ViJHrg4AfICo"
   },
   "source": [
    "## **Part 2: Model Construction using Logistic Regression [10 Marks]**\n",
    "\n",
    "* 2.1 Constructing the model [5 Marks]\n",
    "\n",
    "Fit a logistic regression model using the selected explanatory variables and the training data."
   ]
  },
  {
   "cell_type": "code",
   "execution_count": null,
   "metadata": {},
   "outputs": [],
   "source": []
  },
  {
   "cell_type": "code",
   "execution_count": 127,
   "metadata": {},
   "outputs": [],
   "source": [
    "\n",
    "# Select explanatory variables from cleaned train data \n",
    "X = application_train_new[['ENTRANCES_MEDI', 'AMT_GOODS_PRICE', 'CODE_GENDER', 'NONLIVINGAREA_MODE', 'AMT_CREDIT',\n",
    "    'DAYS_REGISTRATION', 'AMT_CREDIT_MAX_OVERDUE', 'REG_REGION_NOT_WORK_REGION','NAME_FAMILY_STATUS', 'AMT_REQ_CREDIT_BUREAU_WEEK',\n",
    "        'REG_CITY_NOT_WORK_CITY', 'NAME_HOUSING_TYPE','AMT_DRAWINGS_CURRENT', 'FLOORSMAX_AVG', 'OWN_CAR_AGE', 'AMT_TOTAL_RECEIVABLE',\n",
    "            'ELEVATORS_AVG', 'AMT_INCOME_TOTAL','LIVINGAPARTMENTS_MEDI', 'CNT_INSTALMENT_FUTURE', 'FLAG_WORK_PHONE', 'COMMONAREA_MODE',\n",
    "                'AMT_PAYMENT_GREATER_EQUAL_INSTALMENT', 'FLAG_OWN_REALTY', 'DAYS_EMPLOYED', 'EXT_SOURCE_3', 'NAME_CONTRACT_TYPE',\n",
    "                'FLAG_EMP_PHONE', 'CREDIT_TYPE_CREDIT_CARD','CNT_FAM_MEMBERS', 'DEF_30_CNT_SOCIAL_CIRCLE', 'FLOORSMIN_AVG',\n",
    "                'NAME_TYPE_SUITE', 'OBS_30_CNT_SOCIAL_CIRCLE', 'FLOORSMIN_MEDI', 'WEEKDAY_APPR_PROCESS_START', 'EXT_SOURCE_2', 'EXT_SOURCE_1',\n",
    "                'DAYS_LAST_PHONE_CHANGE', 'REGION_RATING_CLIENT', 'OCCUPATION_TYPE', 'TARGET']]\n",
    "\n",
    "#remove all rows with NA as any value for any feature\n",
    "X.dropna(inplace=True)\n",
    "#X.fillna(0)\n",
    "# response vector is the TARGET feature\n",
    "y = X.pop('TARGET')\n"
   ]
  },
  {
   "cell_type": "code",
   "execution_count": 128,
   "metadata": {},
   "outputs": [],
   "source": [
    "from sklearn.linear_model import LogisticRegression\n",
    "\n",
    "# Get  columns whose data type is not float64\n",
    "filtered_cols = X.dtypes[X.dtypes != np.float64]\n",
    "# list of columns whose data type is not float64\n",
    "cols = list(filtered_cols.index)\n",
    "\n",
    "# Use get_dummies to convert categorical columns into dummy columns of 0s and 1s for Logistic Regression \n",
    "X_encoded = pd.get_dummies(data=X, columns = cols)\n",
    "\n",
    "# Split data into 70% trianing and 30% testing\n",
    "X_train, X_test, y_train, y_test = train_test_split(X_encoded,y, test_size=0.30, random_state=0)\n",
    "\n",
    "# Fit a logistic regression model to the train data\n",
    "logreg = LogisticRegression()\n",
    "logreg.fit(X_train, y_train)\n",
    "\n",
    "# determine predicted response from logistic regression X_test data\n",
    "y_pred = logreg.predict(X_test)"
   ]
  },
  {
   "cell_type": "markdown",
   "metadata": {},
   "source": [
    "* 2.2 Interpreting the model [5 Marks]\n",
    "\n",
    "Interpret the estimated coefficients of the logistic regression model. \n",
    "Explain their impact on the response variable in plain English."
   ]
  },
  {
   "cell_type": "code",
   "execution_count": 129,
   "metadata": {},
   "outputs": [
    {
     "name": "stdout",
     "output_type": "stream",
     "text": [
      "[[-6.51467816e-08 -4.35928328e-06 -1.73633549e-08 ... -9.01030783e-09\n",
      "  -2.85254564e-08 -3.25987817e-09]] [-3.07343554e-07]\n"
     ]
    }
   ],
   "source": [
    "# Determine coefficients and inercept from Logistic Regression model\n",
    "print(logreg.coef_, logreg.intercept_)"
   ]
  },
  {
   "cell_type": "markdown",
   "metadata": {},
   "source": [
    "The coefficients of the logistic regression model, as well as the intercept, are numbers that are all very close to 0. This means that the resulting predictions will most likely be an array of 0. This means the model will do a good job predicting whether the customer has the ability to repay the loan, but may not necessarily predict the ability of a customer to have difficulty.  "
   ]
  },
  {
   "cell_type": "markdown",
   "metadata": {
    "id": "CEJUxd-6inbh"
   },
   "source": [
    "## **Part 3: Model Evaluation [25 Marks]**\n",
    "\n",
    "* 3.1 Confusion matrix [5 Marks] \n",
    "\n",
    "Calculate the confusion matrix using the testing set. "
   ]
  },
  {
   "cell_type": "code",
   "execution_count": 130,
   "metadata": {
    "id": "UJpFiTj5jaAD"
   },
   "outputs": [
    {
     "name": "stdout",
     "output_type": "stream",
     "text": [
      "True Negatives:  591\n",
      "False Positives:  0\n",
      "False Negatives:  35\n",
      "True Positives:  0\n",
      "0    591\n",
      "1     35\n",
      "Name: TARGET, dtype: int64\n"
     ]
    }
   ],
   "source": [
    "# calculate confusion matrix and related values\n",
    "cnf_matrix = confusion_matrix(y_test, y_pred)\n",
    "tn, fp, fn, tp = cnf_matrix.ravel()\n",
    "print(\"True Negatives: \",tn)\n",
    "print(\"False Positives: \",fp)\n",
    "print(\"False Negatives: \",fn)\n",
    "print(\"True Positives: \",tp)\n",
    "print(y_test.value_counts())\n"
   ]
  },
  {
   "cell_type": "markdown",
   "metadata": {},
   "source": [
    "* 3.2 Explaining the confusion matrix [5 Marks]\n",
    "\n",
    "Explain a weakness or a strength of the model based on the confusion matrix. "
   ]
  },
  {
   "cell_type": "markdown",
   "metadata": {},
   "source": [
    "According to the confusion matrix, the model predicted all customers who repaid their loans correctly. However, if incorrectly classified 35 customers who had difficulty as not having difficulty. "
   ]
  },
  {
   "cell_type": "markdown",
   "metadata": {},
   "source": [
    "* 3.3 Graphic illustration of the performance [5 Marks]\n",
    "\n",
    "Plot the ROC curve (receiver operating characteristic curve) showing the performance of the model.\n",
    "Calculate AUC (Area under the curve) respectively"
   ]
  },
  {
   "cell_type": "code",
   "execution_count": 131,
   "metadata": {},
   "outputs": [
    {
     "data": {
      "image/png": "[encoded data removed]",
      "text/plain": [
       "<Figure size 432x288 with 1 Axes>"
      ]
     },
     "metadata": {
      "needs_background": "light"
     },
     "output_type": "display_data"
    }
   ],
   "source": [
    "y_pred_probs = logreg.predict_proba(X_test)[::,1]\n",
    "fpr, tpr, _ =roc_curve(y_test, y_pred_probs)\n",
    "\n",
    "auc = roc_auc_score(y_test, y_pred_probs)\n",
    "\n",
    "plt.plot(fpr,tpr,label=\"AUC=\"+str(auc))\n",
    "plt.ylabel('True Positive Rate')\n",
    "plt.xlabel('False Positive Rate')\n",
    "plt.legend(loc=4)\n",
    "plt.show()"
   ]
  },
  {
   "cell_type": "markdown",
   "metadata": {},
   "source": [
    "The AUC of the model is about 0.604, implying that the model is not strong enough to predict targets correctly. "
   ]
  },
  {
   "cell_type": "markdown",
   "metadata": {},
   "source": [
    "* 3.4 Compute the performance measures [5 Marks]\n",
    "\n",
    "Compute the following measures to assess the performance of the logistic regression model: \n",
    "    precision, recall, F_1-score, accuracy, and total misclassification rate; \n",
    "    using the testing set."
   ]
  },
  {
   "cell_type": "code",
   "execution_count": 132,
   "metadata": {},
   "outputs": [
    {
     "name": "stdout",
     "output_type": "stream",
     "text": [
      "              precision    recall  f1-score   support\n",
      "\n",
      "           0       0.94      1.00      0.97       591\n",
      "           1       0.00      0.00      0.00        35\n",
      "\n",
      "    accuracy                           0.94       626\n",
      "   macro avg       0.47      0.50      0.49       626\n",
      "weighted avg       0.89      0.94      0.92       626\n",
      "\n",
      "missclassification rate =  0.05591054313099042\n"
     ]
    }
   ],
   "source": [
    "\n",
    "print(classification_report(y_test,y_pred))\n",
    "accuracy = accuracy_score(y_test, y_pred)\n",
    "print('missclassification rate = ', 1-accuracy)\n",
    "\n"
   ]
  },
  {
   "cell_type": "markdown",
   "metadata": {},
   "source": [
    "* 3.5 Suitable performance measures for reporting [5 Marks]\n",
    "\n",
    "If you were to only choose two of the five performance measures for reporting, which ones do you choose? \n",
    "Justify your choice."
   ]
  },
  {
   "cell_type": "markdown",
   "metadata": {},
   "source": [
    "I would choose the F1-Score, as it combines both the precision and recall evaluations to get an overall understanding of the model performance. However, it is obvious that this model has issues with False Negatives, as it is missclassifying all Targets that had value \"1\". As a result, Recall would be another important metric to consider. "
   ]
  },
  {
   "cell_type": "markdown",
   "metadata": {
    "id": "Ac1nyvCPe8ce"
   },
   "source": [
    "## **Part 4: Alternative classification model [20 marks]**\n",
    "Select an alternative classification model that has at least one tunable hyper-parameter.\n",
    "\n",
    "**HINT !**\n",
    "\n",
    "You might want to try random forest or boosted tree etc.\n",
    "\n",
    "* 4.1 Train the alternative classification model [5 marks]\n",
    "\n",
    "Train your alternative model on the same training set."
   ]
  },
  {
   "cell_type": "markdown",
   "metadata": {},
   "source": [
    "Train alternative model using Random Forest Classifier:"
   ]
  },
  {
   "cell_type": "code",
   "execution_count": 133,
   "metadata": {
    "id": "vN1H_N-TJZ0H"
   },
   "outputs": [],
   "source": [
    "classifier = RandomForestClassifier(n_estimators=1000, criterion=\"gini\")\n",
    "classifier.fit(X_train, y_train)\n",
    "y_pred_RF = classifier.predict(X_test)"
   ]
  },
  {
   "cell_type": "markdown",
   "metadata": {},
   "source": [
    "* 4.2 Tune the alternative classification model [5 Marks]\n",
    "\n",
    "Use a k-fold cross validation to tune the hyper-parameters of the alternative model based on accuracy. "
   ]
  },
  {
   "cell_type": "code",
   "execution_count": 134,
   "metadata": {},
   "outputs": [
    {
     "name": "stdout",
     "output_type": "stream",
     "text": [
      "Mean cross-validation score: 0.94\n",
      "K-fold CV average score: 0.94\n"
     ]
    }
   ],
   "source": [
    "score_CV = cross_val_score(classifier, X_train, y_train, cv=5)\n",
    "print(\"Mean cross-validation score: %.2f\" % score_CV.mean())\n",
    "\n",
    "kfold = KFold(n_splits=10, shuffle=True)\n",
    "kf_cv_scores = cross_val_score(classifier, X_train, y_train, cv=kfold )\n",
    "print(\"K-fold CV average score: %.2f\" % kf_cv_scores.mean())\n"
   ]
  },
  {
   "cell_type": "code",
   "execution_count": 135,
   "metadata": {},
   "outputs": [
    {
     "name": "stdout",
     "output_type": "stream",
     "text": [
      "Accuracy: 0.938\n"
     ]
    }
   ],
   "source": [
    "CV_inner = KFold(n_splits = 5, shuffle=True, random_state=1)\n",
    "space = dict()\n",
    "space['n_estimators'] = [10, 100, 500, 1000]\n",
    "space['max_features'] = [2, 10,20, 40]\n",
    "search = GridSearchCV(classifier, space, scoring='accuracy', n_jobs=1, cv=CV_inner, refit=True)\n",
    "CV_outer = KFold(n_splits = 10, shuffle=True, random_state=1)\n",
    "scores = cross_val_score(search, X_train, y_train, scoring ='accuracy', cv=CV_outer, n_jobs=-1)\n",
    "print('Accuracy: %.3f' %(np.mean(scores)))"
   ]
  },
  {
   "cell_type": "code",
   "execution_count": 136,
   "metadata": {},
   "outputs": [],
   "source": [
    "y_pred_RF = classifier.predict(X_test)"
   ]
  },
  {
   "cell_type": "markdown",
   "metadata": {},
   "source": [
    "* 4.3 Confusion matrix [5 Marks]\n",
    "\n",
    "Calculate the confusion matrix using the testing set."
   ]
  },
  {
   "cell_type": "code",
   "execution_count": 137,
   "metadata": {},
   "outputs": [
    {
     "name": "stdout",
     "output_type": "stream",
     "text": [
      "True Negatives:  591\n",
      "False Positives:  0\n",
      "False Negatives:  35\n",
      "True Positives:  0\n",
      "              precision    recall  f1-score   support\n",
      "\n",
      "           0       0.94      1.00      0.97       591\n",
      "           1       0.00      0.00      0.00        35\n",
      "\n",
      "    accuracy                           0.94       626\n",
      "   macro avg       0.47      0.50      0.49       626\n",
      "weighted avg       0.89      0.94      0.92       626\n",
      "\n",
      "missclassification rate =  0.05591054313099042\n"
     ]
    }
   ],
   "source": [
    "# calculate confusion matrix and related values\n",
    "cnf_matrix = confusion_matrix(y_test, y_pred_RF)\n",
    "tn, fp, fn, tp = cnf_matrix.ravel()\n",
    "print(\"True Negatives: \",tn)\n",
    "print(\"False Positives: \",fp)\n",
    "print(\"False Negatives: \",fn)\n",
    "print(\"True Positives: \",tp)\n",
    "\n",
    "print(classification_report(y_test,y_pred_RF))\n",
    "accuracy = accuracy_score(y_test, y_pred_RF)\n",
    "print('missclassification rate = ', 1-accuracy)"
   ]
  },
  {
   "cell_type": "markdown",
   "metadata": {},
   "source": [
    "* 4.4 Graphic illustration of the performance [5 Marks]\n",
    "\n",
    "Plot the ROC curve (receiver operating characteristic curve) showing the performance of the model.\n",
    "Calculate AUC (Area under the curve) respectively"
   ]
  },
  {
   "cell_type": "code",
   "execution_count": 139,
   "metadata": {},
   "outputs": [
    {
     "data": {
      "image/png": "[encoded data removed]",
      "text/plain": [
       "<Figure size 432x288 with 1 Axes>"
      ]
     },
     "metadata": {
      "needs_background": "light"
     },
     "output_type": "display_data"
    }
   ],
   "source": [
    "y_pred_probs = classifier.predict_proba(X_test)[::,1]\n",
    "fpr, tpr, _ =roc_curve(y_test, y_pred_probs)\n",
    "\n",
    "auc = roc_auc_score(y_test, y_pred_probs)\n",
    "\n",
    "plt.plot(fpr,tpr,label=\"AUC=\"+str(auc))\n",
    "plt.ylabel('True Positive Rate')\n",
    "plt.xlabel('False Positive Rate')\n",
    "plt.legend(loc=4)\n",
    "plt.show()"
   ]
  },
  {
   "cell_type": "markdown",
   "metadata": {
    "id": "0NzRkO9sIwKS"
   },
   "source": [
    "## **Part 5: Compare the two models [15 Marks]**\n",
    "\n",
    "Use the test data to compare the logistic regression model and the tuned alternative model.\n",
    "\n",
    "* 5.1 Compare predictive performance [5 Marks]\n",
    "\n",
    "Choose a suitable plot and illustrate all the five performance measures (precision, recall, F_1-score, accuracy, and total misclassification rate) for the two models. \n",
    "Use appropriate figure size, title/caption, legend, and axis titles."
   ]
  },
  {
   "cell_type": "code",
   "execution_count": 174,
   "metadata": {
    "id": "yClYMXloe8cg"
   },
   "outputs": [
    {
     "data": {
      "image/png": "[encoded data removed]",
      "text/plain": [
       "<Figure size 432x288 with 1 Axes>"
      ]
     },
     "metadata": {
      "needs_background": "light"
     },
     "output_type": "display_data"
    },
    {
     "data": {
      "image/png": "[encoded data removed]",
      "text/plain": [
       "<Figure size 432x288 with 1 Axes>"
      ]
     },
     "metadata": {
      "needs_background": "light"
     },
     "output_type": "display_data"
    }
   ],
   "source": [
    "logreg_f1 = f1_score(y_test, y_pred, average='weighted')\n",
    "logreg_precission = precision_score(y_test, y_pred, average='weighted')\n",
    "logreg_recall = recall_score(y_test, y_pred, average='weighted')\n",
    "logreg_accuracy = accuracy_score(y_test, y_pred)\n",
    "logreg_misclass = 1-logreg_accuracy\n",
    "\n",
    "logreg_metrics = [logreg_f1, logreg_precission, logreg_recall, logreg_accuracy, logreg_misclass]\n",
    "\n",
    "x_axis = ['F1', 'Precision', 'Recall', 'Accuracy', 'Misclassification Rate']\n",
    "\n",
    "p = sns.barplot(x_axis, logreg_metrics)\n",
    "p.set(xlabel = \"Metrics\", ylabel = \"Score\")\n",
    "p.set_title('Weighted Classification Report for LogReg')\n",
    "\n",
    "plt.show()\n",
    "\n",
    "RF_f1 = f1_score(y_test, y_pred_RF, average='weighted')\n",
    "RF_precission = precision_score(y_test, y_pred_RF, average='weighted')\n",
    "RF_recall = recall_score(y_test, y_pred_RF, average='weighted')\n",
    "RF_accuracy = accuracy_score(y_test, y_pred_RF)\n",
    "RF_misclass = 1-logreg_accuracy\n",
    "\n",
    "RF_metrics = [RF_f1, RF_precission, RF_recall, RF_accuracy, RF_misclass]\n",
    "\n",
    "x_axis = ['F1', 'Precision', 'Recall', 'Accuracy', 'Misclassification Rate']\n",
    "\n",
    "p = sns.barplot(x_axis, RF_metrics)\n",
    "p.set(xlabel = \"Metrics\", ylabel = \"Score\")\n",
    "p.set_title('Weighted Classification Report for RF')\n",
    "\n",
    "plt.show()\n"
   ]
  },
  {
   "cell_type": "markdown",
   "metadata": {},
   "source": [
    "* 5.2 Recommend model to client (scenario 1) [5 Marks]\n",
    "\n",
    "Among the two models you have developed, what is you suggested model to Home Credit Group (client of the project), \n",
    "if they are more concerned about rejecting applications of individuals who may otherwise end up having difficulty in repayment? \n",
    " Provide a numeric measure for each of the two models to justify your response.\n"
   ]
  },
  {
   "cell_type": "markdown",
   "metadata": {},
   "source": [
    "Both models have the same Classification Report. This means that both models predicted \"0\" as the Target values for each application. Per the classification report for category \"1\", as required by the client to reject applications, it is obvious from the score of the models that neither model is feasible, specifically since the metrics are of 0 value. This can be simply attested to the fact that the number of applications that were accepted (i.e. scored 0) are far greater than those rejected (i.e. scored 1). As a result, there has been insufficient data for the model to be trained on rejecting applications as it can be seen as almost negligible due to the 5.5% misclassification error rate. This would cause the models to overfit on accepted applications. "
   ]
  },
  {
   "cell_type": "markdown",
   "metadata": {},
   "source": [
    "* 5.3 Recommend model to client (scenario 2) [5 Marks]\n",
    "\n",
    "Among the two models you have developed, what is you suggested model to Home Credit Group (client of the project), \n",
    "if they are more concerned about not rejecting applications of individuals who may be capable of repayment according to the data? \n",
    " Provide a numeric measure for each of the two models to justify your response."
   ]
  },
  {
   "cell_type": "markdown",
   "metadata": {},
   "source": [
    "Again, both models have the same Classification Report. Both models do an excellent job not accepting applications given they predict Target values of \"0\" from the given data. The F1 scores are all greater than 0.94 for both models and the misclassification rate is 5.5%. This means 94.5% of the time, the model is accurately predicting the applications should not be rejected. The choice of model will boil down to the AUC score of each models respective ROC curve. It is obvious that the AUC score of the Random Forest Classification model is greater than that of the Logistic Regression model (i.e. 0.75 vs 0.64). From this alone, we can suggest using the Random Forest Classification model to be used by the client. "
   ]
  }
 ],
 "metadata": {
  "colab": {
   "collapsed_sections": [],
   "name": "F21_APS1070_Project_2.ipynb",
   "provenance": []
  },
  "kernelspec": {
   "display_name": "Python 3",
   "language": "python",
   "name": "python3"
  },
  "language_info": {
   "codemirror_mode": {
    "name": "ipython",
    "version": 3
   },
   "file_extension": ".py",
   "mimetype": "text/x-python",
   "name": "python",
   "nbconvert_exporter": "python",
   "pygments_lexer": "ipython3",
   "version": "3.8.8"
  }
 },
 "nbformat": 4,
 "nbformat_minor": 1
}
